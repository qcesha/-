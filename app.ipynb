{
  "nbformat": 4,
  "nbformat_minor": 0,
  "metadata": {
    "colab": {
      "provenance": [],
      "mount_file_id": "1phtZ6scOcoJcbS5toLTnuHxFTEbsNdyC",
      "authorship_tag": "ABX9TyPuVK7w6CECGz5zVKt4yDk6",
      "include_colab_link": true
    },
    "kernelspec": {
      "name": "python3",
      "display_name": "Python 3"
    },
    "language_info": {
      "name": "python"
    }
  },
  "cells": [
    {
      "cell_type": "markdown",
      "metadata": {
        "id": "view-in-github",
        "colab_type": "text"
      },
      "source": [
        "<a href=\"https://colab.research.google.com/github/qcesha/Data/blob/main/app.ipynb\" target=\"_parent\"><img src=\"https://colab.research.google.com/assets/colab-badge.svg\" alt=\"Open In Colab\"/></a>"
      ]
    },
    {
      "cell_type": "code",
      "execution_count": 2,
      "metadata": {
        "id": "ZMklFZHehesr"
      },
      "outputs": [],
      "source": [
        "from fastapi import FastAPI\n",
        "from pydantic import BaseModel\n",
        "import joblib\n",
        "import numpy as np\n",
        "\n",
        "# Описание структуры входных данных (7 признаков после отбора)\n",
        "class SongFeatures(BaseModel):\n",
        "    danceability: float\n",
        "    energy: float\n",
        "    key: int\n",
        "    loudness: float\n",
        "    mode: int\n",
        "    speechiness: float\n",
        "    acousticness: float\n",
        "    instrumentalness: float\n",
        "    liveness: float\n",
        "    valence: float\n",
        "    tempo: float\n",
        "\n",
        "app = FastAPI()\n",
        "\n",
        "# Загружаем модель и scaler один раз при старте приложения\n",
        "scaler = joblib.load('/content/drive/MyDrive/Colab Notebooks/scaler.pkl')\n",
        "model = joblib.load('/content/drive/MyDrive/Colab Notebooks/model.pkl')\n",
        "\n",
        "@app.post(\"/predict/\")\n",
        "def predict(features: SongFeatures):\n",
        "    # Превращаем вход в массив numpy в нужном порядке\n",
        "    x = np.array([[\n",
        "        features.danceability,\n",
        "        features.energy,\n",
        "        features.key,\n",
        "        features.loudness,\n",
        "        features.mode,\n",
        "        features.speechiness,\n",
        "        features.acousticness,\n",
        "        features.instrumentalness,\n",
        "        features.liveness,\n",
        "        features.valence,\n",
        "        features.tempo\n",
        "    ]])\n",
        "\n",
        "    # Масштабируем\n",
        "    x_scaled = scaler.transform(x)\n",
        "\n",
        "    # Предсказание\n",
        "    pred = model.predict(x_scaled)\n",
        "\n",
        "    # Возвращаем предсказание в ответе\n",
        "    return {\"predicted_popularity\": float(pred[0])}\n"
      ]
    }
  ]
}